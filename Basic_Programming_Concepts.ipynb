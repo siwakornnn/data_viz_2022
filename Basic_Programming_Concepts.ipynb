{
  "nbformat": 4,
  "nbformat_minor": 0,
  "metadata": {
    "colab": {
      "name": "Basic Programming Concepts.ipynb",
      "provenance": [],
      "authorship_tag": "ABX9TyMh0R5qKrvnod5SRt99gTsF",
      "include_colab_link": true
    },
    "kernelspec": {
      "name": "python3",
      "display_name": "Python 3"
    },
    "language_info": {
      "name": "python"
    }
  },
  "cells": [
    {
      "cell_type": "markdown",
      "metadata": {
        "id": "view-in-github",
        "colab_type": "text"
      },
      "source": [
        "<a href=\"https://colab.research.google.com/github/siwakornnn/data_viz_2022/blob/main/Basic_Programming_Concepts.ipynb\" target=\"_parent\"><img src=\"https://colab.research.google.com/assets/colab-badge.svg\" alt=\"Open In Colab\"/></a>"
      ]
    },
    {
      "cell_type": "markdown",
      "source": [
        "# Functions ($f(x) = y$)"
      ],
      "metadata": {
        "id": "R568OMPXLtAc"
      }
    },
    {
      "cell_type": "code",
      "execution_count": 1,
      "metadata": {
        "id": "M2qyignzGxF6"
      },
      "outputs": [],
      "source": [
        "def funtion_name(input_x):\n",
        "      # do something with input_x to get output_y\n",
        "  return output_y"
      ]
    },
    {
      "cell_type": "markdown",
      "source": [
        "$f_1(x)=x^2 + 75$"
      ],
      "metadata": {
        "id": "GS3kQvPML0-6"
      }
    },
    {
      "cell_type": "code",
      "source": [
        "def funtion_f1(x):\n",
        "  a = x**2\n",
        "  y = a + 75\n",
        "  return y\n",
        "  print('done!')"
      ],
      "metadata": {
        "id": "w3Oe2DgeHY--"
      },
      "execution_count": 4,
      "outputs": []
    },
    {
      "cell_type": "code",
      "source": [
        "funtion_f1(3)"
      ],
      "metadata": {
        "colab": {
          "base_uri": "https://localhost:8080/"
        },
        "id": "YxvJ9ERQHpmL",
        "outputId": "9e1e1ead-cc0d-4335-c329-b010306aebdc"
      },
      "execution_count": 3,
      "outputs": [
        {
          "output_type": "execute_result",
          "data": {
            "text/plain": [
              "84"
            ]
          },
          "metadata": {},
          "execution_count": 3
        }
      ]
    },
    {
      "cell_type": "markdown",
      "source": [
        "function มีส่วนสำคัญทั้งหมด 4 ส่วน\n",
        "\n",
        "1. บอก python ว่าเราจะเขียนฟังก์ชั่น ชื่ออะไร  `def function_name()`: (ขาดไม่ได้)\n",
        "2. กำหนดตัวแปรที่จะเป็น input  _Input_ (ขาดได้)\n",
        "3. ส่วนประมวลผล do_something with _Input_ to get _Output_ (ขาดไม่ได้)\n",
        "4. ส่วน output `return` _Output_(ขาดได้)"
      ],
      "metadata": {
        "id": "RHj7xrpoMASp"
      }
    },
    {
      "cell_type": "markdown",
      "source": [
        "###ตัวอย่าง funtion ที่มีส่วนประกอบครบ"
      ],
      "metadata": {
        "id": "xleluSH_Huux"
      }
    },
    {
      "cell_type": "code",
      "source": [
        "def funtion_f1(x):\n",
        "  a = x**2\n",
        "  y = a + 75\n",
        "  return y"
      ],
      "metadata": {
        "id": "Sc67NDuOHvNz"
      },
      "execution_count": 5,
      "outputs": []
    },
    {
      "cell_type": "markdown",
      "source": [
        "###ตัวอย่าง funtion ที่ไม่มี input"
      ],
      "metadata": {
        "id": "enI_czifIJDe"
      }
    },
    {
      "cell_type": "code",
      "source": [
        "def pi_v():\n",
        "  y = 3.14159265359\n",
        "  return y"
      ],
      "metadata": {
        "id": "i0mHKmVUITBp"
      },
      "execution_count": 9,
      "outputs": []
    },
    {
      "cell_type": "code",
      "source": [
        "piv = pi_v()\n",
        "cirrcle_area_r2 = piv*(2**2)\n",
        "print(cirrcle_area_r2)"
      ],
      "metadata": {
        "colab": {
          "base_uri": "https://localhost:8080/"
        },
        "id": "8K42WYfSI7fF",
        "outputId": "f90a4f7e-a600-4acd-8987-4c10e61da3cc"
      },
      "execution_count": 10,
      "outputs": [
        {
          "output_type": "stream",
          "name": "stdout",
          "text": [
            "12.56637061436\n"
          ]
        }
      ]
    },
    {
      "cell_type": "markdown",
      "source": [
        "### Function ไม่มี process ไม่ได้"
      ],
      "metadata": {
        "id": "gtiBQaqBITfW"
      }
    },
    {
      "cell_type": "code",
      "source": [
        "def funtion_a():"
      ],
      "metadata": {
        "colab": {
          "base_uri": "https://localhost:8080/",
          "height": 132
        },
        "id": "GqlaXQGmJXXj",
        "outputId": "bb1c6040-d52e-4923-dbe1-4e90d0f570b2"
      },
      "execution_count": 11,
      "outputs": [
        {
          "output_type": "error",
          "ename": "SyntaxError",
          "evalue": "ignored",
          "traceback": [
            "\u001b[0;36m  File \u001b[0;32m\"<ipython-input-11-469d0722433c>\"\u001b[0;36m, line \u001b[0;32m1\u001b[0m\n\u001b[0;31m    def funtion_a():\u001b[0m\n\u001b[0m                    ^\u001b[0m\n\u001b[0;31mSyntaxError\u001b[0m\u001b[0;31m:\u001b[0m unexpected EOF while parsing\n"
          ]
        }
      ]
    },
    {
      "cell_type": "markdown",
      "source": [
        "###ตัวอย่าง funtion ที่ไม่มี output"
      ],
      "metadata": {
        "id": "iiun-pXrJfu0"
      }
    },
    {
      "cell_type": "code",
      "source": [
        "def print_name_id(name,id):\n",
        "  print(f'ชื่อ {name} รหัสประจำตัว {id}')"
      ],
      "metadata": {
        "id": "mx33Z_WJJjUW"
      },
      "execution_count": 12,
      "outputs": []
    },
    {
      "cell_type": "code",
      "source": [
        "print_name_id('ศิวกร','603021840-5')"
      ],
      "metadata": {
        "colab": {
          "base_uri": "https://localhost:8080/"
        },
        "id": "1J6pK7KKKlBp",
        "outputId": "4b9c2c7d-ec1a-4194-ccad-da39714a2687"
      },
      "execution_count": 13,
      "outputs": [
        {
          "output_type": "stream",
          "name": "stdout",
          "text": [
            "ชื่อ ศิวกร รหัสประจำตัว 603021840-5\n"
          ]
        }
      ]
    },
    {
      "cell_type": "code",
      "source": [
        "a = print_name_id('ศิวกร','603021840-5')"
      ],
      "metadata": {
        "colab": {
          "base_uri": "https://localhost:8080/"
        },
        "id": "t7Bxu6bKLbRz",
        "outputId": "9c500f86-87b3-46f2-e510-b072367bff48"
      },
      "execution_count": 14,
      "outputs": [
        {
          "output_type": "stream",
          "name": "stdout",
          "text": [
            "ชื่อ ศิวกร รหัสประจำตัว 603021840-5\n"
          ]
        }
      ]
    },
    {
      "cell_type": "code",
      "source": [
        "a"
      ],
      "metadata": {
        "id": "eJsB3Z00LdpR"
      },
      "execution_count": 16,
      "outputs": []
    },
    {
      "cell_type": "markdown",
      "source": [
        "ตัวอย่าง function print https://www.programiz.com/python-programming/methods/built-in/print"
      ],
      "metadata": {
        "id": "XECMdrnqOxSK"
      }
    },
    {
      "cell_type": "code",
      "source": [
        "print('ศิวกร')\n",
        "print('603021840-5')"
      ],
      "metadata": {
        "colab": {
          "base_uri": "https://localhost:8080/"
        },
        "id": "F995VomtPQ5E",
        "outputId": "02d75125-9aa5-4001-c373-37761e9ec81d"
      },
      "execution_count": 17,
      "outputs": [
        {
          "output_type": "stream",
          "name": "stdout",
          "text": [
            "ศิวกร\n",
            "603021840-5\n"
          ]
        }
      ]
    },
    {
      "cell_type": "code",
      "source": [
        "print('ศิวกร' ,end='->')\n",
        "print('603021840-5')"
      ],
      "metadata": {
        "colab": {
          "base_uri": "https://localhost:8080/"
        },
        "id": "saKUvKHZPabO",
        "outputId": "12431e90-fec3-4847-f37a-513172642764"
      },
      "execution_count": 18,
      "outputs": [
        {
          "output_type": "stream",
          "name": "stdout",
          "text": [
            "ศิวกร->603021840-5\n"
          ]
        }
      ]
    },
    {
      "cell_type": "code",
      "source": [
        "print('ศิวกร' , '603021840-5')"
      ],
      "metadata": {
        "colab": {
          "base_uri": "https://localhost:8080/"
        },
        "id": "7qjSF8uBPku0",
        "outputId": "8a24d3ca-7078-4ab5-8dc8-614e3e3500b3"
      },
      "execution_count": 19,
      "outputs": [
        {
          "output_type": "stream",
          "name": "stdout",
          "text": [
            "ศิวกร 603021840-5\n"
          ]
        }
      ]
    },
    {
      "cell_type": "code",
      "source": [
        "print('ศิวกร' , '603021840-5',sep=' & ')"
      ],
      "metadata": {
        "colab": {
          "base_uri": "https://localhost:8080/"
        },
        "id": "VGfC6adIPrqi",
        "outputId": "2906b054-ce55-4036-9c1a-a5628987bb60"
      },
      "execution_count": 20,
      "outputs": [
        {
          "output_type": "stream",
          "name": "stdout",
          "text": [
            "ศิวกร & 603021840-5\n"
          ]
        }
      ]
    },
    {
      "cell_type": "markdown",
      "source": [
        "## input ของ function แบ่งเป็น 2 ชนิด (จำเป็นต้องใส่ กับ ไม่จำเป็นต้องใส่)"
      ],
      "metadata": {
        "id": "sbnWwJIoQCpf"
      }
    },
    {
      "cell_type": "markdown",
      "source": [
        "ตัวอย่าง function print_grade() มี input 3ตัว จำเป็นต้อง 2 ตัว คือ name กับ id และไม่ตจำเป็ต้องใส่คือ คือ ซึ่งมีค่า default เป็น F"
      ],
      "metadata": {
        "id": "dV0YlNAoRMqE"
      }
    },
    {
      "cell_type": "code",
      "source": [
        "def print_grade(name,id,grade = ' F '): \n",
        "  print(f'รหัสประจำตัว {id} ชื่อ {name}') \n",
        "  print(f'ได้เกรด {grade} ')"
      ],
      "metadata": {
        "id": "gsUKTLEoQPRK"
      },
      "execution_count": 22,
      "outputs": []
    },
    {
      "cell_type": "code",
      "source": [
        "print_grade('นายศิวกร  แตงอ่อน' , '603021840-5')"
      ],
      "metadata": {
        "colab": {
          "base_uri": "https://localhost:8080/"
        },
        "id": "dxnYaSgmRnRq",
        "outputId": "6daa8a20-51d7-4b25-92e1-e19dfb69aa7c"
      },
      "execution_count": 23,
      "outputs": [
        {
          "output_type": "stream",
          "name": "stdout",
          "text": [
            "รหัสประจำตัว 603021840-5 ชื่อ นายศิวกร  แตงอ่อน\n",
            "ได้เกรด  F  \n"
          ]
        }
      ]
    },
    {
      "cell_type": "code",
      "source": [
        "print_grade('นายศิวกร  แตงอ่อน' , '603021840-5' , 'A')"
      ],
      "metadata": {
        "colab": {
          "base_uri": "https://localhost:8080/"
        },
        "id": "TJw35IaoRzTI",
        "outputId": "6901d77d-eb70-4b69-97f2-25e069258be7"
      },
      "execution_count": 24,
      "outputs": [
        {
          "output_type": "stream",
          "name": "stdout",
          "text": [
            "รหัสประจำตัว 603021840-5 ชื่อ นายศิวกร  แตงอ่อน\n",
            "ได้เกรด A \n"
          ]
        }
      ]
    },
    {
      "cell_type": "code",
      "source": [
        ""
      ],
      "metadata": {
        "colab": {
          "base_uri": "https://localhost:8080/"
        },
        "id": "mJ1jnvNmSEvh",
        "outputId": "9790ef05-b98d-4653-9bfd-6e8c13a85cc3"
      },
      "execution_count": 25,
      "outputs": [
        {
          "output_type": "stream",
          "name": "stdout",
          "text": [
            "รหัสประจำตัว 603021840-5 ชื่อ นายศิวกร  แตงอ่อน\n",
            "ได้เกรด A \n"
          ]
        }
      ]
    },
    {
      "cell_type": "markdown",
      "source": [
        "##Looping (for)\n",
        "Conditional Statement (if)"
      ],
      "metadata": {
        "id": "gIPiGvI4LkhS"
      }
    }
  ]
}