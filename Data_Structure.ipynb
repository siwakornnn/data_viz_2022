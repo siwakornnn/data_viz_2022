{
  "nbformat": 4,
  "nbformat_minor": 0,
  "metadata": {
    "colab": {
      "name": "Data Structure.ipynb",
      "provenance": [],
      "collapsed_sections": [],
      "authorship_tag": "ABX9TyOt8qpTEY/gkFx5buFhAeLA",
      "include_colab_link": true
    },
    "kernelspec": {
      "name": "python3",
      "display_name": "Python 3"
    },
    "language_info": {
      "name": "python"
    }
  },
  "cells": [
    {
      "cell_type": "markdown",
      "metadata": {
        "id": "view-in-github",
        "colab_type": "text"
      },
      "source": [
        "<a href=\"https://colab.research.google.com/github/siwakornnn/data_viz_2022/blob/main/Data_Structure.ipynb\" target=\"_parent\"><img src=\"https://colab.research.google.com/assets/colab-badge.svg\" alt=\"Open In Colab\"/></a>"
      ]
    },
    {
      "cell_type": "markdown",
      "source": [
        "# Data Structure (โครงสร้างข้อมูล)\n",
        "การเก็บข้อมูลหลายๆตัวอย่างเป็นระเบียบ"
      ],
      "metadata": {
        "id": "5bf01sKX55lT"
      }
    },
    {
      "cell_type": "markdown",
      "source": [
        "## `list()`\n",
        "- เก็บอะไรก็ได้\n",
        "- ลำดับในการเก็บมีความสำคัญ"
      ],
      "metadata": {
        "id": "1J_i-3sJ6UpF"
      }
    },
    {
      "cell_type": "code",
      "source": [
        "list_a = [1,2,3,4,5,6] #[ ] square brackets\n",
        "list_a "
      ],
      "metadata": {
        "colab": {
          "base_uri": "https://localhost:8080/"
        },
        "id": "PkA7fjfw6Rd7",
        "outputId": "9a7b8ca4-3f36-427c-ab81-21a177e82009"
      },
      "execution_count": null,
      "outputs": [
        {
          "output_type": "execute_result",
          "data": {
            "text/plain": [
              "[1, 2, 3, 4, 5, 6]"
            ]
          },
          "metadata": {},
          "execution_count": 1
        }
      ]
    },
    {
      "cell_type": "code",
      "execution_count": null,
      "metadata": {
        "colab": {
          "base_uri": "https://localhost:8080/"
        },
        "id": "h-oGX4j841__",
        "outputId": "4c9a58a7-5708-43df-e1aa-30c9e1a982ce"
      },
      "outputs": [
        {
          "output_type": "execute_result",
          "data": {
            "text/plain": [
              "['ab', 2, 3.14, [1, 2, 3, 4, 5, 6]]"
            ]
          },
          "metadata": {},
          "execution_count": 2
        }
      ],
      "source": [
        "list_b = ['ab' ,2,3.14,list_a]\n",
        "list_b"
      ]
    },
    {
      "cell_type": "markdown",
      "source": [
        "### indexing การชี้สมาชิกใน list ด้วย เลข]eดับของ list"
      ],
      "metadata": {
        "id": "k20NRuGD8RH2"
      }
    },
    {
      "cell_type": "code",
      "source": [
        "list_a[3]"
      ],
      "metadata": {
        "colab": {
          "base_uri": "https://localhost:8080/"
        },
        "id": "opogLYCX7IPj",
        "outputId": "f585fb1d-2efb-4c19-c7c9-3dfe60705338"
      },
      "execution_count": null,
      "outputs": [
        {
          "output_type": "execute_result",
          "data": {
            "text/plain": [
              "4"
            ]
          },
          "metadata": {},
          "execution_count": 3
        }
      ]
    },
    {
      "cell_type": "code",
      "source": [
        "list_b[3]"
      ],
      "metadata": {
        "colab": {
          "base_uri": "https://localhost:8080/"
        },
        "id": "jF9A7TP27xJ5",
        "outputId": "4385cb6b-4626-4df6-cc4c-ee9518dddd00"
      },
      "execution_count": null,
      "outputs": [
        {
          "output_type": "execute_result",
          "data": {
            "text/plain": [
              "[1, 2, 3, 4, 5, 6]"
            ]
          },
          "metadata": {},
          "execution_count": 4
        }
      ]
    },
    {
      "cell_type": "code",
      "source": [
        "list_b[3][3]"
      ],
      "metadata": {
        "colab": {
          "base_uri": "https://localhost:8080/"
        },
        "id": "30lrEumT71Ca",
        "outputId": "daf74586-8dc1-4a1e-d45e-998eb19b9c77"
      },
      "execution_count": null,
      "outputs": [
        {
          "output_type": "execute_result",
          "data": {
            "text/plain": [
              "4"
            ]
          },
          "metadata": {},
          "execution_count": 5
        }
      ]
    },
    {
      "cell_type": "code",
      "source": [
        "list_a[-1] # index -1 คือ ตัวสุดท้ายของ list"
      ],
      "metadata": {
        "id": "nhKsZCJ98drK"
      },
      "execution_count": null,
      "outputs": []
    },
    {
      "cell_type": "code",
      "source": [
        "list_a[-4]"
      ],
      "metadata": {
        "colab": {
          "base_uri": "https://localhost:8080/"
        },
        "id": "FTg_R1i49IKq",
        "outputId": "a2cdd704-9bbc-42d7-f296-6a22538dbee5"
      },
      "execution_count": null,
      "outputs": [
        {
          "output_type": "execute_result",
          "data": {
            "text/plain": [
              "3"
            ]
          },
          "metadata": {},
          "execution_count": 6
        }
      ]
    },
    {
      "cell_type": "markdown",
      "source": [
        "การสร้าง `list()`"
      ],
      "metadata": {
        "id": "ifntAZT99sJs"
      }
    },
    {
      "cell_type": "code",
      "source": [
        "list_x1 = [] #แบบที่ 1\n",
        "list_x2 = list() # แบบที่2"
      ],
      "metadata": {
        "id": "sR12Kvl59VHF"
      },
      "execution_count": null,
      "outputs": []
    },
    {
      "cell_type": "code",
      "source": [
        "print(list_x1)\n",
        "print(list_x2)"
      ],
      "metadata": {
        "colab": {
          "base_uri": "https://localhost:8080/"
        },
        "id": "2e1dIntz-KNC",
        "outputId": "fe451f31-a4a9-4f48-a648-b3db868ceab9"
      },
      "execution_count": null,
      "outputs": [
        {
          "output_type": "stream",
          "name": "stdout",
          "text": [
            "[]\n",
            "[]\n"
          ]
        }
      ]
    },
    {
      "cell_type": "markdown",
      "source": [
        "### เพิ่มสมาชิกเข้าไปใน list ด้วย `append()`"
      ],
      "metadata": {
        "id": "BvSaS36e-SEr"
      }
    },
    {
      "cell_type": "code",
      "source": [
        "list_x1.append(2)\n",
        "list_x1"
      ],
      "metadata": {
        "colab": {
          "base_uri": "https://localhost:8080/"
        },
        "id": "NFawgrEb-ip-",
        "outputId": "97475c2a-5364-41db-81a4-b0579ee7cea1"
      },
      "execution_count": null,
      "outputs": [
        {
          "output_type": "execute_result",
          "data": {
            "text/plain": [
              "[2, 2]"
            ]
          },
          "metadata": {},
          "execution_count": 10
        }
      ]
    },
    {
      "cell_type": "code",
      "source": [
        "list_x1.append(5)\n",
        "list_x1"
      ],
      "metadata": {
        "colab": {
          "base_uri": "https://localhost:8080/"
        },
        "id": "08_nCINM_NzV",
        "outputId": "f8e28bed-485c-4d4c-8fc2-73a1509aa9dd"
      },
      "execution_count": null,
      "outputs": [
        {
          "output_type": "execute_result",
          "data": {
            "text/plain": [
              "[2, 2, 5]"
            ]
          },
          "metadata": {},
          "execution_count": 11
        }
      ]
    },
    {
      "cell_type": "code",
      "source": [
        "list_x1[0]"
      ],
      "metadata": {
        "colab": {
          "base_uri": "https://localhost:8080/"
        },
        "id": "GoL5-xWd_pnF",
        "outputId": "b181471f-5c54-4137-d5bc-1b81f82cbfe1"
      },
      "execution_count": null,
      "outputs": [
        {
          "output_type": "execute_result",
          "data": {
            "text/plain": [
              "2"
            ]
          },
          "metadata": {},
          "execution_count": 12
        }
      ]
    },
    {
      "cell_type": "code",
      "source": [
        "list_x2"
      ],
      "metadata": {
        "colab": {
          "base_uri": "https://localhost:8080/"
        },
        "id": "F5PzsZ32_3CG",
        "outputId": "a6dcb3b4-983b-40d2-83cf-cdac0001b237"
      },
      "execution_count": null,
      "outputs": [
        {
          "output_type": "execute_result",
          "data": {
            "text/plain": [
              "[]"
            ]
          },
          "metadata": {},
          "execution_count": 13
        }
      ]
    },
    {
      "cell_type": "code",
      "source": [
        "list_x2.append('ha')\n",
        "list_x2"
      ],
      "metadata": {
        "colab": {
          "base_uri": "https://localhost:8080/"
        },
        "id": "HghFh5b6__VZ",
        "outputId": "98009859-2195-44ad-e62a-bea9e08d7f62"
      },
      "execution_count": null,
      "outputs": [
        {
          "output_type": "execute_result",
          "data": {
            "text/plain": [
              "['ha']"
            ]
          },
          "metadata": {},
          "execution_count": 14
        }
      ]
    },
    {
      "cell_type": "markdown",
      "source": [
        "### ลบสมาชิกจาก list"
      ],
      "metadata": {
        "id": "eziMUhJMAQie"
      }
    },
    {
      "cell_type": "code",
      "source": [
        "list_x1.pop()"
      ],
      "metadata": {
        "colab": {
          "base_uri": "https://localhost:8080/"
        },
        "id": "KZHgV0BLAJO1",
        "outputId": "69211a13-44c5-4553-b5f5-0f7785398248"
      },
      "execution_count": null,
      "outputs": [
        {
          "output_type": "execute_result",
          "data": {
            "text/plain": [
              "5"
            ]
          },
          "metadata": {},
          "execution_count": 16
        }
      ]
    },
    {
      "cell_type": "code",
      "source": [
        "list_x1.pop()"
      ],
      "metadata": {
        "colab": {
          "base_uri": "https://localhost:8080/"
        },
        "id": "Pg6aYjPNAcej",
        "outputId": "08e9fc9a-9399-4d8e-fc50-f182096b0d05"
      },
      "execution_count": null,
      "outputs": [
        {
          "output_type": "execute_result",
          "data": {
            "text/plain": [
              "2"
            ]
          },
          "metadata": {},
          "execution_count": 17
        }
      ]
    },
    {
      "cell_type": "code",
      "source": [
        "list_x1.append('4')\n",
        "list_x1"
      ],
      "metadata": {
        "colab": {
          "base_uri": "https://localhost:8080/"
        },
        "id": "IuItfwC2AjAU",
        "outputId": "ec5a1625-539e-4764-c237-a8364140515c"
      },
      "execution_count": null,
      "outputs": [
        {
          "output_type": "execute_result",
          "data": {
            "text/plain": [
              "[2, '4', '4']"
            ]
          },
          "metadata": {},
          "execution_count": 19
        }
      ]
    },
    {
      "cell_type": "code",
      "source": [
        "list_x1.pop()"
      ],
      "metadata": {
        "colab": {
          "base_uri": "https://localhost:8080/",
          "height": 34
        },
        "id": "VVa5XjoIArLQ",
        "outputId": "85cde430-50f9-49cb-daa2-9a0532f58006"
      },
      "execution_count": null,
      "outputs": [
        {
          "output_type": "execute_result",
          "data": {
            "application/vnd.google.colaboratory.intrinsic+json": {
              "type": "string"
            },
            "text/plain": [
              "'4'"
            ]
          },
          "metadata": {},
          "execution_count": 20
        }
      ]
    },
    {
      "cell_type": "code",
      "source": [
        "list_x2.append('ha')\n",
        "list_x2"
      ],
      "metadata": {
        "colab": {
          "base_uri": "https://localhost:8080/"
        },
        "id": "4dvcvM2ABOmf",
        "outputId": "29e2289c-c938-4bb4-adc9-a874d4bba06b"
      },
      "execution_count": null,
      "outputs": [
        {
          "output_type": "execute_result",
          "data": {
            "text/plain": [
              "['ha', 'ha']"
            ]
          },
          "metadata": {},
          "execution_count": 21
        }
      ]
    },
    {
      "cell_type": "markdown",
      "source": [
        "`len()` ตรวจสอบจำนวนสมาชิกของ list"
      ],
      "metadata": {
        "id": "t768QQOeB-Ji"
      }
    },
    {
      "cell_type": "code",
      "source": [
        "print(list_b)\n",
        "print(len(list_b))"
      ],
      "metadata": {
        "colab": {
          "base_uri": "https://localhost:8080/"
        },
        "id": "IrL-HAJjCLXz",
        "outputId": "d07d3491-acaf-46e5-97c4-1b217b4cbc64"
      },
      "execution_count": null,
      "outputs": [
        {
          "output_type": "stream",
          "name": "stdout",
          "text": [
            "['ab', 2, 3.14, [1, 2, 3, 4, 5, 6]]\n",
            "4\n"
          ]
        }
      ]
    },
    {
      "cell_type": "code",
      "source": [
        "len(list_a)"
      ],
      "metadata": {
        "colab": {
          "base_uri": "https://localhost:8080/"
        },
        "id": "7cPnCMuiCYfd",
        "outputId": "fb89a6f8-f5c9-4254-959f-f5a69d482bf4"
      },
      "execution_count": null,
      "outputs": [
        {
          "output_type": "execute_result",
          "data": {
            "text/plain": [
              "6"
            ]
          },
          "metadata": {},
          "execution_count": 23
        }
      ]
    },
    {
      "cell_type": "markdown",
      "source": [
        "### Sring is a list of characters"
      ],
      "metadata": {
        "id": "9BzwIl3JCel4"
      }
    },
    {
      "cell_type": "markdown",
      "source": [
        "st_stat = 'Department of Statistics, Faculty of Science'"
      ],
      "metadata": {
        "id": "S_b_QWtzCdxx"
      }
    },
    {
      "cell_type": "code",
      "source": [
        "st_stat[10]"
      ],
      "metadata": {
        "colab": {
          "base_uri": "https://localhost:8080/",
          "height": 34
        },
        "id": "x0ZKq2K6DKEb",
        "outputId": "83d674e1-cdf0-49e0-cf9c-de69f1efbfc9"
      },
      "execution_count": null,
      "outputs": [
        {
          "output_type": "execute_result",
          "data": {
            "application/vnd.google.colaboratory.intrinsic+json": {
              "type": "string"
            },
            "text/plain": [
              "' '"
            ]
          },
          "metadata": {},
          "execution_count": 25
        }
      ]
    },
    {
      "cell_type": "code",
      "source": [
        "len(st_stat)"
      ],
      "metadata": {
        "colab": {
          "base_uri": "https://localhost:8080/"
        },
        "id": "Jbq2rjpjDNbb",
        "outputId": "fbf99294-bf1d-41f6-8bc1-ba60317ef6af"
      },
      "execution_count": null,
      "outputs": [
        {
          "output_type": "execute_result",
          "data": {
            "text/plain": [
              "44"
            ]
          },
          "metadata": {},
          "execution_count": 27
        }
      ]
    },
    {
      "cell_type": "markdown",
      "source": [
        "### list Slicing `:`"
      ],
      "metadata": {
        "id": "Qz8pOFFiDaGO"
      }
    },
    {
      "cell_type": "markdown",
      "source": [
        "`list[จุดเริ่มต้น(ทึบ):จุดสุดท้าย(โปร่ง)]`\n",
        "\n",
        "`list[จุดเริ่มต้น(ทึบ):จุดสุดท้าย(โปร่ง):step]`"
      ],
      "metadata": {
        "id": "uD82ny0bEpcO"
      }
    },
    {
      "cell_type": "code",
      "source": [
        "list_a"
      ],
      "metadata": {
        "colab": {
          "base_uri": "https://localhost:8080/"
        },
        "id": "CXM2aBJQD3il",
        "outputId": "9bde0684-077f-4d50-a3ce-bf0e0dab98b7"
      },
      "execution_count": null,
      "outputs": [
        {
          "output_type": "execute_result",
          "data": {
            "text/plain": [
              "[1, 2, 3, 4, 5, 6]"
            ]
          },
          "metadata": {},
          "execution_count": 29
        }
      ]
    },
    {
      "cell_type": "code",
      "source": [
        "list_a[2]"
      ],
      "metadata": {
        "colab": {
          "base_uri": "https://localhost:8080/"
        },
        "id": "Zt9YpG7rD99t",
        "outputId": "260927b9-7bf3-4227-c24a-67bc46cde3d3"
      },
      "execution_count": null,
      "outputs": [
        {
          "output_type": "execute_result",
          "data": {
            "text/plain": [
              "3"
            ]
          },
          "metadata": {},
          "execution_count": 30
        }
      ]
    },
    {
      "cell_type": "markdown",
      "source": [
        "#### colon"
      ],
      "metadata": {
        "id": "YYrSTQKgHB_K"
      }
    },
    {
      "cell_type": "code",
      "source": [
        "list_a[-3:]   # : colon"
      ],
      "metadata": {
        "colab": {
          "base_uri": "https://localhost:8080/"
        },
        "id": "eueefoyjEBDr",
        "outputId": "db0960c1-c874-4cdf-9cf0-31019f481ead"
      },
      "execution_count": null,
      "outputs": [
        {
          "output_type": "execute_result",
          "data": {
            "text/plain": [
              "[4, 5, 6]"
            ]
          },
          "metadata": {},
          "execution_count": 32
        }
      ]
    },
    {
      "cell_type": "code",
      "source": [
        "list_a[1:4]"
      ],
      "metadata": {
        "colab": {
          "base_uri": "https://localhost:8080/"
        },
        "id": "Sx3-fRhcFw2P",
        "outputId": "8a9defdd-aaf2-427b-bfc0-34c2fae4d4fa"
      },
      "execution_count": null,
      "outputs": [
        {
          "output_type": "execute_result",
          "data": {
            "text/plain": [
              "[2, 3, 4]"
            ]
          },
          "metadata": {},
          "execution_count": 33
        }
      ]
    },
    {
      "cell_type": "code",
      "source": [
        "list_a[]"
      ],
      "metadata": {
        "id": "hLiTpSNEGkhU"
      },
      "execution_count": null,
      "outputs": []
    },
    {
      "cell_type": "markdown",
      "source": [
        "#### step"
      ],
      "metadata": {
        "id": "N_FyqzIDGwO-"
      }
    },
    {
      "cell_type": "code",
      "source": [
        "list_c = [1,2,3,4,5,6,7,8,9,10,11,12,13]\n",
        "list_c[:10:]"
      ],
      "metadata": {
        "colab": {
          "base_uri": "https://localhost:8080/"
        },
        "id": "svVrgRdNHJtT",
        "outputId": "7344fdcb-4cc0-4447-9c00-96b8e11ae976"
      },
      "execution_count": null,
      "outputs": [
        {
          "output_type": "execute_result",
          "data": {
            "text/plain": [
              "[1, 2, 3, 4, 5, 6, 7, 8, 9, 10]"
            ]
          },
          "metadata": {},
          "execution_count": 34
        }
      ]
    },
    {
      "cell_type": "code",
      "source": [
        "list_c[:10:2]"
      ],
      "metadata": {
        "colab": {
          "base_uri": "https://localhost:8080/"
        },
        "id": "km6TpmJ0HVkc",
        "outputId": "4ce01abd-281c-4871-f4ba-2d4f4a060e7d"
      },
      "execution_count": null,
      "outputs": [
        {
          "output_type": "execute_result",
          "data": {
            "text/plain": [
              "[1, 3, 5, 7, 9]"
            ]
          },
          "metadata": {},
          "execution_count": 35
        }
      ]
    },
    {
      "cell_type": "code",
      "source": [
        "list_c[::-1]"
      ],
      "metadata": {
        "colab": {
          "base_uri": "https://localhost:8080/"
        },
        "id": "7MJqb2VTHeYh",
        "outputId": "ca08e5f0-5e63-4d3f-9387-e4acb941f0eb"
      },
      "execution_count": null,
      "outputs": [
        {
          "output_type": "execute_result",
          "data": {
            "text/plain": [
              "[13, 12, 11, 10, 9, 8, 7, 6, 5, 4, 3, 2, 1]"
            ]
          },
          "metadata": {},
          "execution_count": 36
        }
      ]
    },
    {
      "cell_type": "markdown",
      "source": [
        "###`range()`"
      ],
      "metadata": {
        "id": "K7v59xMNIAM4"
      }
    },
    {
      "cell_type": "code",
      "source": [
        "range(21)"
      ],
      "metadata": {
        "colab": {
          "base_uri": "https://localhost:8080/"
        },
        "id": "MMrpKDD1IOCa",
        "outputId": "46db94da-eadd-4928-f650-e6c691a49e0f"
      },
      "execution_count": null,
      "outputs": [
        {
          "output_type": "execute_result",
          "data": {
            "text/plain": [
              "range(0, 21)"
            ]
          },
          "metadata": {},
          "execution_count": 37
        }
      ]
    },
    {
      "cell_type": "code",
      "source": [
        "a = list(range(21))"
      ],
      "metadata": {
        "id": "TJLOfcqZIGyZ"
      },
      "execution_count": null,
      "outputs": []
    },
    {
      "cell_type": "code",
      "source": [
        "a"
      ],
      "metadata": {
        "colab": {
          "base_uri": "https://localhost:8080/"
        },
        "id": "E7WvsSdYIYmh",
        "outputId": "c51c7d5c-282d-44c5-b995-78a13a90b2e1"
      },
      "execution_count": null,
      "outputs": [
        {
          "output_type": "execute_result",
          "data": {
            "text/plain": [
              "[0, 1, 2, 3, 4, 5, 6, 7, 8, 9, 10, 11, 12, 13, 14, 15, 16, 17, 18, 19, 20]"
            ]
          },
          "metadata": {},
          "execution_count": 44
        }
      ]
    },
    {
      "cell_type": "code",
      "source": [
        "list(range(1,21))"
      ],
      "metadata": {
        "colab": {
          "base_uri": "https://localhost:8080/"
        },
        "id": "R4_wuNtCIejU",
        "outputId": "f2383a56-739f-4e37-dc71-8a622a3b154b"
      },
      "execution_count": null,
      "outputs": [
        {
          "output_type": "execute_result",
          "data": {
            "text/plain": [
              "[1, 2, 3, 4, 5, 6, 7, 8, 9, 10, 11, 12, 13, 14, 15, 16, 17, 18, 19, 20]"
            ]
          },
          "metadata": {},
          "execution_count": 45
        }
      ]
    },
    {
      "cell_type": "code",
      "source": [
        ""
      ],
      "metadata": {
        "colab": {
          "base_uri": "https://localhost:8080/"
        },
        "id": "vWEyGUFiIi-B",
        "outputId": "99a6e5df-54ae-463b-d0a7-6ff2756dd1e5"
      },
      "execution_count": null,
      "outputs": [
        {
          "output_type": "execute_result",
          "data": {
            "text/plain": [
              "[1, 2, 3, 4, 5, 6, 7, 8, 9, 10, 11, 12, 13, 14, 15, 16, 17, 18, 19, 20]"
            ]
          },
          "metadata": {},
          "execution_count": 42
        }
      ]
    },
    {
      "cell_type": "markdown",
      "source": [
        "HW2 คำนวณเวลาเป็นวินาทีของเวลาต่อไปนี้โดยใช้คำสั่ง split() ช่วย\n",
        "(print ออกมาให้สวยงาม)\n",
        "1. 12:3.:15\n",
        "2. 13:41:07\n",
        "3. 09:11:50\n",
        "4. 21:30:15\n",
        "5. 03:10:15"
      ],
      "metadata": {
        "id": "iduYVcrDJLFS"
      }
    },
    {
      "cell_type": "code",
      "source": [
        "#0.:00:00\n",
        "a = 1*60*60\n",
        "print(f'00:00:00 แปลงเป็นวินาทีได้ {a} วินาที')"
      ],
      "metadata": {
        "colab": {
          "base_uri": "https://localhost:8080/"
        },
        "id": "C4BkjznBJuq6",
        "outputId": "dc62a211-0d6e-4a9a-bba4-41f5e3c9a844"
      },
      "execution_count": null,
      "outputs": [
        {
          "output_type": "stream",
          "name": "stdout",
          "text": [
            "00:00:00 แปลงเป็นวินาทีได้ 3600 วินาที\n"
          ]
        }
      ]
    },
    {
      "cell_type": "code",
      "source": [
        "# 1. 12:3.:15\n",
        "Time = '12:30:15'\n",
        "Time_1 = Time.split(':')\n",
        "Time_1 = int(Time_1[0])*60*60 + int(Time_1[1])*60 + int(Time_1[2])\n",
        "print(f'{Time} แปลงเป็นวินาที ได้ {Time_1} วินาที')"
      ],
      "metadata": {
        "id": "vhyRW4ABDvxF",
        "outputId": "16c1f57e-8c5f-4c76-f8ff-34905a2a5c79",
        "colab": {
          "base_uri": "https://localhost:8080/"
        }
      },
      "execution_count": null,
      "outputs": [
        {
          "output_type": "stream",
          "name": "stdout",
          "text": [
            "12:30:15 แปลงเป็นวินาที ได้ 45015 วินาที\n"
          ]
        }
      ]
    },
    {
      "cell_type": "code",
      "source": [
        "# 2. 09:11:50\n",
        "Time = '09:11:50'\n",
        "Time_1 = Time.split(':')\n",
        "Time_1 = int(Time_1[0])*60*60 + int(Time_1[1])*60 + int(Time_1[2])\n",
        "print(f'{Time} แปลงเป็นวินาที ได้ {Time_1} วินาที')"
      ],
      "metadata": {
        "id": "dfEANyMxEbkK",
        "outputId": "ed24475c-7420-463e-d1c9-b39de1f398b1",
        "colab": {
          "base_uri": "https://localhost:8080/"
        }
      },
      "execution_count": null,
      "outputs": [
        {
          "output_type": "stream",
          "name": "stdout",
          "text": [
            "09:11:50 แปลงเป็นวินาที ได้ 33110 วินาที\n"
          ]
        }
      ]
    },
    {
      "cell_type": "code",
      "source": [
        "# 3. 13:41:07\n",
        "Time = '13:41:07'\n",
        "Time_1 = Time.split(':')\n",
        "Time_1 = int(Time_1[0])*60*60 + int(Time_1[1])*60 + int(Time_1[2])\n",
        "print(f'{Time} แปลงเป็นวินาที ได้ {Time_1} วินาที')"
      ],
      "metadata": {
        "id": "UccCRUl8Ei8H"
      },
      "execution_count": null,
      "outputs": []
    },
    {
      "cell_type": "code",
      "source": [
        "# 4. 21:30:15\n",
        "Time = '21:30:15'\n",
        "Time_1 = Time.split(':')\n",
        "Time_1 = int(Time_1[0])*60*60 + int(Time_1[1])*60 + int(Time_1[2])\n",
        "print(f'{Time} แปลงเป็นวินาที ได้ {Time_1} วินาที')"
      ],
      "metadata": {
        "id": "AuFfQw2xEmnC",
        "outputId": "e50e024e-8429-48f2-e835-dd6d58b93a87",
        "colab": {
          "base_uri": "https://localhost:8080/"
        }
      },
      "execution_count": null,
      "outputs": [
        {
          "output_type": "stream",
          "name": "stdout",
          "text": [
            "21:30:15 แปลงเป็นวินาที ได้ 77415 วินาที\n"
          ]
        }
      ]
    },
    {
      "cell_type": "code",
      "source": [
        "# 5. 03:10:15\n",
        "Time = '03:10:15'\n",
        "Time_1 = Time.split(':')\n",
        "Time_1 = int(Time_1[0])*60*60 + int(Time_1[1])*60 + int(Time_1[2])\n",
        "print(f'{Time} แปลงเป็นวินาที ได้ {Time_1} วินาที')"
      ],
      "metadata": {
        "id": "dSFJQJLqEnHd",
        "outputId": "742c935a-614e-4822-b3ec-3a8cf964723c",
        "colab": {
          "base_uri": "https://localhost:8080/"
        }
      },
      "execution_count": null,
      "outputs": [
        {
          "output_type": "stream",
          "name": "stdout",
          "text": [
            "03:10:15 แปลงเป็นวินาที ได้ 11415 วินาที\n"
          ]
        }
      ]
    },
    {
      "cell_type": "code",
      "source": [
        "# 1. 12:3.:15\n",
        "Time = '12:30:15'\n",
        "Time_1 = Time.split(':')\n",
        "Time_1 = int(Time_1[0])*60*60 + int(Time_1[1])*60 + int(Time_1[2])\n",
        "print(f'{Time} แปลงเป็นวินาที ได้ {Time_1} วินาที')"
      ],
      "metadata": {
        "id": "z-aSnx8FOlPT"
      },
      "execution_count": null,
      "outputs": []
    },
    {
      "cell_type": "markdown",
      "source": [
        "# Dictionary"
      ],
      "metadata": {
        "id": "nFhO23OWOtLM"
      }
    },
    {
      "cell_type": "markdown",
      "source": [
        "- คล้าย list()\n",
        "- index เป็นอะไรก็ได้ ไม่จำเป็นต้องเป็นตัวเลขลำดับ\n",
        "- ลำดับไม่มีความสำคัญ"
      ],
      "metadata": {
        "id": "EOum0338PR1k"
      }
    },
    {
      "cell_type": "markdown",
      "source": [
        "### สร้าง Dictionary"
      ],
      "metadata": {
        "id": "THrNCkbwQ_Pp"
      }
    },
    {
      "cell_type": "code",
      "source": [
        "dict_a = {1:'Happy','N':'New','2022':'Year'}   # { } curlybrackets"
      ],
      "metadata": {
        "id": "4Eer-0KwPiGZ"
      },
      "execution_count": 1,
      "outputs": []
    },
    {
      "cell_type": "code",
      "source": [
        "dict_a[1]"
      ],
      "metadata": {
        "id": "3rE8XyS9Qh0t",
        "outputId": "6cb09acf-ca52-4e61-eef4-96fb019b2282",
        "colab": {
          "base_uri": "https://localhost:8080/",
          "height": 34
        }
      },
      "execution_count": 2,
      "outputs": [
        {
          "output_type": "execute_result",
          "data": {
            "application/vnd.google.colaboratory.intrinsic+json": {
              "type": "string"
            },
            "text/plain": [
              "'Happy'"
            ]
          },
          "metadata": {},
          "execution_count": 2
        }
      ]
    },
    {
      "cell_type": "code",
      "source": [
        "dict_a['N']"
      ],
      "metadata": {
        "id": "TU9dvZ-FQlW9",
        "outputId": "3adea7c9-6377-4a4c-9c97-3b8bcbd6e673",
        "colab": {
          "base_uri": "https://localhost:8080/",
          "height": 34
        }
      },
      "execution_count": 4,
      "outputs": [
        {
          "output_type": "execute_result",
          "data": {
            "application/vnd.google.colaboratory.intrinsic+json": {
              "type": "string"
            },
            "text/plain": [
              "'New'"
            ]
          },
          "metadata": {},
          "execution_count": 4
        }
      ]
    },
    {
      "cell_type": "code",
      "source": [
        "dict_a.keys()"
      ],
      "metadata": {
        "id": "i9g7SPV-Qx8p",
        "outputId": "1c4809bc-d02f-41b1-888b-9c2f27e24e2c",
        "colab": {
          "base_uri": "https://localhost:8080/"
        }
      },
      "execution_count": 6,
      "outputs": [
        {
          "output_type": "execute_result",
          "data": {
            "text/plain": [
              "dict_keys([1, 'N', '2022'])"
            ]
          },
          "metadata": {},
          "execution_count": 6
        }
      ]
    },
    {
      "cell_type": "code",
      "source": [
        "dict_a.values()"
      ],
      "metadata": {
        "id": "hCqkKoLDQ5gj",
        "outputId": "d5e51c8e-d72d-4767-d9de-cfc1808acdbe",
        "colab": {
          "base_uri": "https://localhost:8080/"
        }
      },
      "execution_count": 7,
      "outputs": [
        {
          "output_type": "execute_result",
          "data": {
            "text/plain": [
              "dict_values(['Happy', 'New', 'Year'])"
            ]
          },
          "metadata": {},
          "execution_count": 7
        }
      ]
    },
    {
      "cell_type": "markdown",
      "source": [
        "### การเพิ่มสมาชิกลงไปใน Dictionary"
      ],
      "metadata": {
        "id": "1HA_Q3snRIOu"
      }
    },
    {
      "cell_type": "code",
      "source": [
        "dict_a[7] = 3.14"
      ],
      "metadata": {
        "id": "3uNdxUu2RPkD"
      },
      "execution_count": 9,
      "outputs": []
    },
    {
      "cell_type": "code",
      "source": [
        "dict_a"
      ],
      "metadata": {
        "id": "3YpRk7SXRZ7y",
        "outputId": "f64255d9-bdd6-4935-ff24-df38e1945588",
        "colab": {
          "base_uri": "https://localhost:8080/"
        }
      },
      "execution_count": 10,
      "outputs": [
        {
          "output_type": "execute_result",
          "data": {
            "text/plain": [
              "{1: 'Happy', '2022': 'Year', 7: 3.14, 'N': 'New'}"
            ]
          },
          "metadata": {},
          "execution_count": 10
        }
      ]
    },
    {
      "cell_type": "code",
      "source": [
        "dict_a['N'] = 'NNNNNEEEEWWWW'"
      ],
      "metadata": {
        "id": "6RQAlkC1Rhei"
      },
      "execution_count": 12,
      "outputs": []
    },
    {
      "cell_type": "code",
      "source": [
        "dict_a"
      ],
      "metadata": {
        "id": "8eAJb_JmRyOV",
        "outputId": "98b8bba3-c34f-4f52-c739-5fd1e28ca6f8",
        "colab": {
          "base_uri": "https://localhost:8080/"
        }
      },
      "execution_count": 13,
      "outputs": [
        {
          "output_type": "execute_result",
          "data": {
            "text/plain": [
              "{1: 'Happy', '2022': 'Year', 7: 3.14, 'N': 'NNNNNEEEEWWWW'}"
            ]
          },
          "metadata": {},
          "execution_count": 13
        }
      ]
    },
    {
      "cell_type": "markdown",
      "source": [
        "## Numpy Array"
      ],
      "metadata": {
        "id": "zKy6gqkfPQwj"
      }
    },
    {
      "cell_type": "markdown",
      "source": [
        "- เก็บได้แค่ตัวเลข\n",
        "- อ้างอิงโดยใช้ พิกัด (2มิติ มองเป็น Matrix)"
      ],
      "metadata": {
        "id": "To0Rgpc9U1WO"
      }
    },
    {
      "cell_type": "code",
      "source": [
        "import numpy"
      ],
      "metadata": {
        "id": "QUgDao-hVceY"
      },
      "execution_count": 14,
      "outputs": []
    },
    {
      "cell_type": "markdown",
      "source": [
        "### 1D array"
      ],
      "metadata": {
        "id": "2tnlQioPYONz"
      }
    },
    {
      "cell_type": "code",
      "source": [
        "list_A = [1,2,3,4,5]"
      ],
      "metadata": {
        "id": "pJswLI3rVy-I"
      },
      "execution_count": 18,
      "outputs": []
    },
    {
      "cell_type": "code",
      "source": [
        "arr_a = numpy.array(list_A)"
      ],
      "metadata": {
        "id": "NojZT6zjVgt7"
      },
      "execution_count": 19,
      "outputs": []
    },
    {
      "cell_type": "code",
      "source": [
        "arr_a"
      ],
      "metadata": {
        "id": "mIOTfrcgVrNT",
        "outputId": "bd5de296-1cbc-4df6-9499-568cd1424ea1",
        "colab": {
          "base_uri": "https://localhost:8080/"
        }
      },
      "execution_count": 20,
      "outputs": [
        {
          "output_type": "execute_result",
          "data": {
            "text/plain": [
              "array([1, 2, 3, 4, 5])"
            ]
          },
          "metadata": {},
          "execution_count": 20
        }
      ]
    },
    {
      "cell_type": "code",
      "source": [
        "arr_a[0]"
      ],
      "metadata": {
        "id": "IvcVevDWVuYv",
        "outputId": "2b467d6b-4cba-445f-a032-94e768cd097a",
        "colab": {
          "base_uri": "https://localhost:8080/"
        }
      },
      "execution_count": 21,
      "outputs": [
        {
          "output_type": "execute_result",
          "data": {
            "text/plain": [
              "1"
            ]
          },
          "metadata": {},
          "execution_count": 21
        }
      ]
    },
    {
      "cell_type": "code",
      "source": [
        "list_A[0]"
      ],
      "metadata": {
        "id": "my-LvpXaWFhj",
        "outputId": "dafbed31-1277-457a-9083-338640e928b3",
        "colab": {
          "base_uri": "https://localhost:8080/"
        }
      },
      "execution_count": 22,
      "outputs": [
        {
          "output_type": "execute_result",
          "data": {
            "text/plain": [
              "1"
            ]
          },
          "metadata": {},
          "execution_count": 22
        }
      ]
    },
    {
      "cell_type": "code",
      "source": [
        "5 * arr_a # Matrix (scalar multiplication)"
      ],
      "metadata": {
        "id": "ueXRRisnWJdn",
        "outputId": "4c2b1c90-5cde-444c-d379-1cb297629570",
        "colab": {
          "base_uri": "https://localhost:8080/"
        }
      },
      "execution_count": 23,
      "outputs": [
        {
          "output_type": "execute_result",
          "data": {
            "text/plain": [
              "array([ 5, 10, 15, 20, 25])"
            ]
          },
          "metadata": {},
          "execution_count": 23
        }
      ]
    },
    {
      "cell_type": "code",
      "source": [
        "5*list_A"
      ],
      "metadata": {
        "id": "x02_PZ2xWoDZ",
        "outputId": "7a33b317-1a6c-4182-bc40-8451f24115e1",
        "colab": {
          "base_uri": "https://localhost:8080/"
        }
      },
      "execution_count": 24,
      "outputs": [
        {
          "output_type": "execute_result",
          "data": {
            "text/plain": [
              "[1, 2, 3, 4, 5, 1, 2, 3, 4, 5, 1, 2, 3, 4, 5, 1, 2, 3, 4, 5, 1, 2, 3, 4, 5]"
            ]
          },
          "metadata": {},
          "execution_count": 24
        }
      ]
    },
    {
      "cell_type": "code",
      "source": [
        "arr_b = numpy.array([10,20,30,40,50])"
      ],
      "metadata": {
        "id": "UWry8JshXI0C"
      },
      "execution_count": 25,
      "outputs": []
    },
    {
      "cell_type": "code",
      "source": [
        "arr_a.shape"
      ],
      "metadata": {
        "id": "UwMQCtodZv4L",
        "outputId": "e8ab8d5e-b8d3-40fd-e359-88f17e24a77b",
        "colab": {
          "base_uri": "https://localhost:8080/"
        }
      },
      "execution_count": 30,
      "outputs": [
        {
          "output_type": "execute_result",
          "data": {
            "text/plain": [
              "(5,)"
            ]
          },
          "metadata": {},
          "execution_count": 30
        }
      ]
    },
    {
      "cell_type": "code",
      "source": [
        "arr_a + arr_b"
      ],
      "metadata": {
        "id": "V5gzrLq-XXVT",
        "outputId": "8618dc10-6a44-4d1b-868d-e38a32130997",
        "colab": {
          "base_uri": "https://localhost:8080/"
        }
      },
      "execution_count": 26,
      "outputs": [
        {
          "output_type": "execute_result",
          "data": {
            "text/plain": [
              "array([11, 22, 33, 44, 55])"
            ]
          },
          "metadata": {},
          "execution_count": 26
        }
      ]
    },
    {
      "cell_type": "markdown",
      "source": [
        "### 2D array"
      ],
      "metadata": {
        "id": "7izudC5JYDAV"
      }
    },
    {
      "cell_type": "code",
      "source": [
        "import numpy as np   # import มาใช้เป็นชื่อ np (ขี้เกียจพิมพ์ยาว)"
      ],
      "metadata": {
        "id": "_-ZQaFndYWUx"
      },
      "execution_count": 27,
      "outputs": []
    },
    {
      "cell_type": "code",
      "source": [
        "arr2_z = np.array([[1,2,3],[4,5,6]])"
      ],
      "metadata": {
        "id": "sXCnjveHYQEX"
      },
      "execution_count": 28,
      "outputs": []
    },
    {
      "cell_type": "code",
      "source": [
        "arr2_z"
      ],
      "metadata": {
        "id": "BwN9IBRkY572",
        "outputId": "495c4783-d11c-4a97-8f21-a675253c119b",
        "colab": {
          "base_uri": "https://localhost:8080/"
        }
      },
      "execution_count": 29,
      "outputs": [
        {
          "output_type": "execute_result",
          "data": {
            "text/plain": [
              "array([[1, 2, 3],\n",
              "       [4, 5, 6]])"
            ]
          },
          "metadata": {},
          "execution_count": 29
        }
      ]
    },
    {
      "cell_type": "markdown",
      "source": [
        "### `np.zeros()`"
      ],
      "metadata": {
        "id": "PnCqoKFLZcyb"
      }
    },
    {
      "cell_type": "code",
      "source": [
        "arr2_3_5_0 = np.zeros((3,5))"
      ],
      "metadata": {
        "id": "xMrC259aZZFm"
      },
      "execution_count": 33,
      "outputs": []
    },
    {
      "cell_type": "code",
      "source": [
        "arr2_3_5_0"
      ],
      "metadata": {
        "id": "wqhnqb06aLRJ",
        "outputId": "f204518a-7a42-488a-d767-8f3965e80fd1",
        "colab": {
          "base_uri": "https://localhost:8080/"
        }
      },
      "execution_count": 34,
      "outputs": [
        {
          "output_type": "execute_result",
          "data": {
            "text/plain": [
              "array([[0., 0., 0., 0., 0.],\n",
              "       [0., 0., 0., 0., 0.],\n",
              "       [0., 0., 0., 0., 0.]])"
            ]
          },
          "metadata": {},
          "execution_count": 34
        }
      ]
    },
    {
      "cell_type": "code",
      "source": [
        "arr2_3_5_0[1,2] = 9   # กำหนดค่า"
      ],
      "metadata": {
        "id": "xnv-BAwEaZ83"
      },
      "execution_count": 35,
      "outputs": []
    },
    {
      "cell_type": "code",
      "source": [
        "arr2_3_5_0"
      ],
      "metadata": {
        "id": "Q8hzXCjmajZ6",
        "outputId": "a236c1f5-356b-40fb-9369-e456fcf15fc2",
        "colab": {
          "base_uri": "https://localhost:8080/"
        }
      },
      "execution_count": 36,
      "outputs": [
        {
          "output_type": "execute_result",
          "data": {
            "text/plain": [
              "array([[0., 0., 0., 0., 0.],\n",
              "       [0., 0., 9., 0., 0.],\n",
              "       [0., 0., 0., 0., 0.]])"
            ]
          },
          "metadata": {},
          "execution_count": 36
        }
      ]
    },
    {
      "cell_type": "code",
      "source": [
        "arr2_3_5_0[1,2]    # ชี้"
      ],
      "metadata": {
        "id": "LwKIdl12asx_",
        "outputId": "353ed131-132e-42a0-a0bc-1f74d47c85e0",
        "colab": {
          "base_uri": "https://localhost:8080/"
        }
      },
      "execution_count": 37,
      "outputs": [
        {
          "output_type": "execute_result",
          "data": {
            "text/plain": [
              "9.0"
            ]
          },
          "metadata": {},
          "execution_count": 37
        }
      ]
    },
    {
      "cell_type": "code",
      "source": [
        "print(list_A)  # เปลี่ยนค่าใน list()\n",
        "list_A[-1] = 'Christmas'\n",
        "print(list_A)"
      ],
      "metadata": {
        "id": "1Umg9HK9bRr7",
        "outputId": "ae225d96-6b29-4ab6-87fd-b1407f00f5f2",
        "colab": {
          "base_uri": "https://localhost:8080/"
        }
      },
      "execution_count": 38,
      "outputs": [
        {
          "output_type": "stream",
          "name": "stdout",
          "text": [
            "[1, 2, 3, 4, 5]\n",
            "[1, 2, 3, 4, 'Christmas']\n"
          ]
        }
      ]
    },
    {
      "cell_type": "markdown",
      "source": [
        "### `np.ones()`"
      ],
      "metadata": {
        "id": "g12xY6bsb73r"
      }
    },
    {
      "cell_type": "code",
      "source": [
        "arr2_4_5_1 = np.ones((4,5))"
      ],
      "metadata": {
        "id": "axGNiHI-cCdp"
      },
      "execution_count": 40,
      "outputs": []
    },
    {
      "cell_type": "code",
      "source": [
        "arr2_4_5_1"
      ],
      "metadata": {
        "id": "3RsesIj9cNi6",
        "outputId": "d916c0fb-3a3f-4bb3-9709-37d1c12f1508",
        "colab": {
          "base_uri": "https://localhost:8080/"
        }
      },
      "execution_count": 41,
      "outputs": [
        {
          "output_type": "execute_result",
          "data": {
            "text/plain": [
              "array([[1., 1., 1., 1., 1.],\n",
              "       [1., 1., 1., 1., 1.],\n",
              "       [1., 1., 1., 1., 1.],\n",
              "       [1., 1., 1., 1., 1.]])"
            ]
          },
          "metadata": {},
          "execution_count": 41
        }
      ]
    },
    {
      "cell_type": "code",
      "source": [
        "arr2_4_5_200 = 200*np.ones((4,5))"
      ],
      "metadata": {
        "id": "jElCDpJYcjJh"
      },
      "execution_count": 42,
      "outputs": []
    },
    {
      "cell_type": "code",
      "source": [
        "arr2_4_5_200"
      ],
      "metadata": {
        "id": "fjTHUoMocqwO",
        "outputId": "8958a2b5-b65d-4bfe-d9be-6cc83e84fc22",
        "colab": {
          "base_uri": "https://localhost:8080/"
        }
      },
      "execution_count": 43,
      "outputs": [
        {
          "output_type": "execute_result",
          "data": {
            "text/plain": [
              "array([[200., 200., 200., 200., 200.],\n",
              "       [200., 200., 200., 200., 200.],\n",
              "       [200., 200., 200., 200., 200.],\n",
              "       [200., 200., 200., 200., 200.]])"
            ]
          },
          "metadata": {},
          "execution_count": 43
        }
      ]
    },
    {
      "cell_type": "markdown",
      "source": [
        "## Matrix operations"
      ],
      "metadata": {
        "id": "3GUKUj_Ec16S"
      }
    },
    {
      "cell_type": "markdown",
      "source": [
        "#### การบวก ลบ matrix $M\\pm N$ บวกลบตัวที่อยู่ตำแหน่งเดียวกัน"
      ],
      "metadata": {
        "id": "sGvV_i0Nc-kH"
      }
    },
    {
      "cell_type": "code",
      "source": [
        "arr2_4_5_200 + arr2_4_5_0  # บวก ลบ matrix shape ต้องเท่ากัน"
      ],
      "metadata": {
        "id": "KncozbVRdEZX",
        "outputId": "35cd05c0-cc62-4e20-b56b-3a339c60fa93",
        "colab": {
          "base_uri": "https://localhost:8080/",
          "height": 166
        }
      },
      "execution_count": 44,
      "outputs": [
        {
          "output_type": "error",
          "ename": "NameError",
          "evalue": "ignored",
          "traceback": [
            "\u001b[0;31m---------------------------------------------------------------------------\u001b[0m",
            "\u001b[0;31mNameError\u001b[0m                                 Traceback (most recent call last)",
            "\u001b[0;32m<ipython-input-44-9d16766c423f>\u001b[0m in \u001b[0;36m<module>\u001b[0;34m()\u001b[0m\n\u001b[0;32m----> 1\u001b[0;31m \u001b[0marr2_4_5_200\u001b[0m \u001b[0;34m+\u001b[0m \u001b[0marr2_4_5_0\u001b[0m\u001b[0;34m\u001b[0m\u001b[0;34m\u001b[0m\u001b[0m\n\u001b[0m",
            "\u001b[0;31mNameError\u001b[0m: name 'arr2_4_5_0' is not defined"
          ]
        }
      ]
    },
    {
      "cell_type": "code",
      "source": [
        "arr2_4_5_200 + arr2_4_5_1"
      ],
      "metadata": {
        "id": "2JbjOAoMdTjY",
        "outputId": "7bed51a5-cda5-4b52-9bec-d0cac29ab43f",
        "colab": {
          "base_uri": "https://localhost:8080/"
        }
      },
      "execution_count": 45,
      "outputs": [
        {
          "output_type": "execute_result",
          "data": {
            "text/plain": [
              "array([[201., 201., 201., 201., 201.],\n",
              "       [201., 201., 201., 201., 201.],\n",
              "       [201., 201., 201., 201., 201.],\n",
              "       [201., 201., 201., 201., 201.]])"
            ]
          },
          "metadata": {},
          "execution_count": 45
        }
      ]
    },
    {
      "cell_type": "markdown",
      "source": [
        "#### การคูณ matrix\n",
        "- $aM$   คูณ matrix (scalar คูณกระจายเข้าไปทุกตัวของ matrix)\n",
        "- $M\\times N$  matrix คูณ matrix (แถวคูณหลัก)"
      ],
      "metadata": {
        "id": "RAMoLiIedg90"
      }
    },
    {
      "cell_type": "markdown",
      "source": [
        "$aM$ "
      ],
      "metadata": {
        "id": "mxekJ9gEe0Ru"
      }
    },
    {
      "cell_type": "code",
      "source": [
        "5 * arr_a # Matrix (scalar multiplication)"
      ],
      "metadata": {
        "id": "R-7587Rbelbs",
        "outputId": "c9ce0db2-5ff8-4761-e56a-cf36d4a6f6d1",
        "colab": {
          "base_uri": "https://localhost:8080/"
        }
      },
      "execution_count": 46,
      "outputs": [
        {
          "output_type": "execute_result",
          "data": {
            "text/plain": [
              "array([ 5, 10, 15, 20, 25])"
            ]
          },
          "metadata": {},
          "execution_count": 46
        }
      ]
    },
    {
      "cell_type": "markdown",
      "source": [
        "$M\\times N$ (dot product)\n",
        "- (m,n) $\\times$ (n,o) = (m,o) (Shape)"
      ],
      "metadata": {
        "id": "d7uk2mU3e8A-"
      }
    },
    {
      "cell_type": "code",
      "source": [
        "mat_a = np.array([[2,3,5],[4,6,7]])\n",
        "mat_b = np.array([[1,2,5],[2,4,-7]])\n",
        "mat_c = np.array([[2,3],[4,6],[7,9]])"
      ],
      "metadata": {
        "id": "oe5FD8OTfxmP"
      },
      "execution_count": 48,
      "outputs": []
    },
    {
      "cell_type": "code",
      "source": [
        "mat_a"
      ],
      "metadata": {
        "id": "GwcOHNJtgWnK",
        "outputId": "d9fe8f43-c379-4684-c58f-bfd905bb1d80",
        "colab": {
          "base_uri": "https://localhost:8080/"
        }
      },
      "execution_count": 49,
      "outputs": [
        {
          "output_type": "execute_result",
          "data": {
            "text/plain": [
              "array([[2, 3, 5],\n",
              "       [4, 6, 7]])"
            ]
          },
          "metadata": {},
          "execution_count": 49
        }
      ]
    },
    {
      "cell_type": "markdown",
      "source": [
        "mat_b"
      ],
      "metadata": {
        "id": "pmCEkBjvgXeu"
      }
    },
    {
      "cell_type": "code",
      "source": [
        "mat_c"
      ],
      "metadata": {
        "id": "1dqhkSJugdsd",
        "outputId": "c18f9742-cf04-4ec7-f7ac-1ddb2536be4d",
        "colab": {
          "base_uri": "https://localhost:8080/"
        }
      },
      "execution_count": 52,
      "outputs": [
        {
          "output_type": "execute_result",
          "data": {
            "text/plain": [
              "array([[2, 3],\n",
              "       [4, 6],\n",
              "       [7, 9]])"
            ]
          },
          "metadata": {},
          "execution_count": 52
        }
      ]
    },
    {
      "cell_type": "code",
      "source": [
        "np.dot(mat_a,mat_c)"
      ],
      "metadata": {
        "id": "eQmvGGwuhFXq",
        "outputId": "13fe8a61-b5bb-4c3c-beff-fbef4d273781",
        "colab": {
          "base_uri": "https://localhost:8080/"
        }
      },
      "execution_count": 53,
      "outputs": [
        {
          "output_type": "execute_result",
          "data": {
            "text/plain": [
              "array([[ 51,  69],\n",
              "       [ 81, 111]])"
            ]
          },
          "metadata": {},
          "execution_count": 53
        }
      ]
    },
    {
      "cell_type": "code",
      "source": [
        "np.dot(mat_b,mat_c)"
      ],
      "metadata": {
        "id": "GbUFFar4hKYZ",
        "outputId": "5cfbab10-a795-4987-d717-3665dc39d4ef",
        "colab": {
          "base_uri": "https://localhost:8080/"
        }
      },
      "execution_count": 54,
      "outputs": [
        {
          "output_type": "execute_result",
          "data": {
            "text/plain": [
              "array([[ 45,  60],\n",
              "       [-29, -33]])"
            ]
          },
          "metadata": {},
          "execution_count": 54
        }
      ]
    },
    {
      "cell_type": "code",
      "source": [
        "np.dot(mat_c,mat_a)"
      ],
      "metadata": {
        "id": "yOJpM_9EhQ1k",
        "outputId": "2c303e97-bd48-49f7-f5a8-3c4d47b425fd",
        "colab": {
          "base_uri": "https://localhost:8080/"
        }
      },
      "execution_count": 55,
      "outputs": [
        {
          "output_type": "execute_result",
          "data": {
            "text/plain": [
              "array([[16, 24, 31],\n",
              "       [32, 48, 62],\n",
              "       [50, 75, 98]])"
            ]
          },
          "metadata": {},
          "execution_count": 55
        }
      ]
    },
    {
      "cell_type": "code",
      "source": [
        "np.dot(mat_c,mat_b)"
      ],
      "metadata": {
        "id": "Wf6x8359hUAK",
        "outputId": "c40db152-6cc8-44ac-a292-27d6f03e3f4a",
        "colab": {
          "base_uri": "https://localhost:8080/"
        }
      },
      "execution_count": 56,
      "outputs": [
        {
          "output_type": "execute_result",
          "data": {
            "text/plain": [
              "array([[  8,  16, -11],\n",
              "       [ 16,  32, -22],\n",
              "       [ 25,  50, -28]])"
            ]
          },
          "metadata": {},
          "execution_count": 56
        }
      ]
    },
    {
      "cell_type": "code",
      "source": [
        "mat_a * mat_b #คูณตำแหน่งเดียวกัน"
      ],
      "metadata": {
        "id": "XL4ZXrFohmcl",
        "outputId": "d3583fc6-8617-4c68-a9a1-f46bb38cc059",
        "colab": {
          "base_uri": "https://localhost:8080/"
        }
      },
      "execution_count": 57,
      "outputs": [
        {
          "output_type": "execute_result",
          "data": {
            "text/plain": [
              "array([[  2,   6,  25],\n",
              "       [  8,  24, -49]])"
            ]
          },
          "metadata": {},
          "execution_count": 57
        }
      ]
    },
    {
      "cell_type": "code",
      "source": [
        "mat_X = np.dot(mat_c,mat_b)\n",
        "mat_X"
      ],
      "metadata": {
        "id": "XAf1MGY0iGI8",
        "outputId": "29c0caf9-6608-41c9-9477-cacebe109654",
        "colab": {
          "base_uri": "https://localhost:8080/"
        }
      },
      "execution_count": 59,
      "outputs": [
        {
          "output_type": "execute_result",
          "data": {
            "text/plain": [
              "array([[  8,  16, -11],\n",
              "       [ 16,  32, -22],\n",
              "       [ 25,  50, -28]])"
            ]
          },
          "metadata": {},
          "execution_count": 59
        }
      ]
    },
    {
      "cell_type": "markdown",
      "source": [
        "### Matrix Slicing"
      ],
      "metadata": {
        "id": "nZPpPnUahv1Z"
      }
    },
    {
      "cell_type": "code",
      "source": [
        "mat_X[:2,:2]"
      ],
      "metadata": {
        "id": "PTkyXmk_h28Q",
        "outputId": "e0abdc72-2639-4952-8073-96e9c597627e",
        "colab": {
          "base_uri": "https://localhost:8080/"
        }
      },
      "execution_count": 60,
      "outputs": [
        {
          "output_type": "execute_result",
          "data": {
            "text/plain": [
              "array([[ 8, 16],\n",
              "       [16, 32]])"
            ]
          },
          "metadata": {},
          "execution_count": 60
        }
      ]
    },
    {
      "cell_type": "markdown",
      "source": [
        "1. "
      ],
      "metadata": {
        "id": "7J-TUOphihKG"
      }
    },
    {
      "cell_type": "markdown",
      "source": [
        "HW3\n",
        "\n",
        "1. สร้าง array ที่เป็นรูปต้น christmas\n",
        "2. slice เลข 1 ออกมาจาก array HW3 ด้วยคำสั่ง slie แค่ครั้งเดียว"
      ],
      "metadata": {
        "id": "3XjdbZSHiaGi"
      }
    },
    {
      "cell_type": "code",
      "source": [
        "HW3 = np.zeros((10,10))\n",
        "HW3"
      ],
      "metadata": {
        "id": "0a2T6i0Ki3ka",
        "outputId": "60901ad5-5530-44a9-a1a9-f7b8eeefd232",
        "colab": {
          "base_uri": "https://localhost:8080/"
        }
      },
      "execution_count": 64,
      "outputs": [
        {
          "output_type": "execute_result",
          "data": {
            "text/plain": [
              "array([[0., 0., 0., 0., 0., 0., 0., 0., 0., 0.],\n",
              "       [0., 0., 0., 0., 0., 0., 0., 0., 0., 0.],\n",
              "       [0., 0., 0., 0., 0., 0., 0., 0., 0., 0.],\n",
              "       [0., 0., 0., 0., 0., 0., 0., 0., 0., 0.],\n",
              "       [0., 0., 0., 0., 0., 0., 0., 0., 0., 0.],\n",
              "       [0., 0., 0., 0., 0., 0., 0., 0., 0., 0.],\n",
              "       [0., 0., 0., 0., 0., 0., 0., 0., 0., 0.],\n",
              "       [0., 0., 0., 0., 0., 0., 0., 0., 0., 0.],\n",
              "       [0., 0., 0., 0., 0., 0., 0., 0., 0., 0.],\n",
              "       [0., 0., 0., 0., 0., 0., 0., 0., 0., 0.]])"
            ]
          },
          "metadata": {},
          "execution_count": 64
        }
      ]
    },
    {
      "cell_type": "code",
      "source": [
        "HW3[::4,2] = 1\n",
        "HW3[::4,4] = 1\n",
        "HW3[::4,6] = 1\n",
        "HW3[::4,8] = 1\n",
        "HW3"
      ],
      "metadata": {
        "id": "u606Bnfwkd6p",
        "outputId": "53bfe15a-282d-4b92-d1e1-537c7ff7b500",
        "colab": {
          "base_uri": "https://localhost:8080/"
        }
      },
      "execution_count": 65,
      "outputs": [
        {
          "output_type": "execute_result",
          "data": {
            "text/plain": [
              "array([[0., 0., 1., 0., 1., 0., 1., 0., 1., 0.],\n",
              "       [0., 0., 0., 0., 0., 0., 0., 0., 0., 0.],\n",
              "       [0., 0., 0., 0., 0., 0., 0., 0., 0., 0.],\n",
              "       [0., 0., 0., 0., 0., 0., 0., 0., 0., 0.],\n",
              "       [0., 0., 1., 0., 1., 0., 1., 0., 1., 0.],\n",
              "       [0., 0., 0., 0., 0., 0., 0., 0., 0., 0.],\n",
              "       [0., 0., 0., 0., 0., 0., 0., 0., 0., 0.],\n",
              "       [0., 0., 0., 0., 0., 0., 0., 0., 0., 0.],\n",
              "       [0., 0., 1., 0., 1., 0., 1., 0., 1., 0.],\n",
              "       [0., 0., 0., 0., 0., 0., 0., 0., 0., 0.]])"
            ]
          },
          "metadata": {},
          "execution_count": 65
        }
      ]
    },
    {
      "cell_type": "markdown",
      "source": [
        "### Pandas Dataframe (แยกออกไปเป็น Notebook เฉพาะ)"
      ],
      "metadata": {
        "id": "TaB1Ao21P6MM"
      }
    },
    {
      "cell_type": "code",
      "source": [
        ""
      ],
      "metadata": {
        "id": "wVbZeNuFUyg9"
      },
      "execution_count": null,
      "outputs": []
    },
    {
      "cell_type": "markdown",
      "source": [
        ""
      ],
      "metadata": {
        "id": "GVJNrL_nU2US"
      }
    }
  ]
}